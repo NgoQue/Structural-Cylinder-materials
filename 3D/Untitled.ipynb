{
 "cells": [
  {
   "cell_type": "code",
   "execution_count": 1,
   "id": "79bcf629",
   "metadata": {},
   "outputs": [],
   "source": [
    "# Create the data.\n",
    "from numpy import pi, sin, cos, mgrid\n",
    "dphi, dtheta = pi/250.0, pi/250.0\n",
    "[phi,theta] = mgrid[0:pi+dphi*1.5:dphi,0:2*pi+dtheta*1.5:dtheta]\n",
    "m0 = 4; m1 = 3; m2 = 2; m3 = 3; m4 = 6; m5 = 2; m6 = 6; m7 = 4;\n",
    "r = sin(m0*phi)**m1 + cos(m2*phi)**m3 + sin(m4*theta)**m5 + cos(m6*theta)**m7\n",
    "x = r*sin(phi)*cos(theta)\n",
    "y = r*cos(phi)\n",
    "z = r*sin(phi)*sin(theta)\n",
    "\n",
    "# View it.\n",
    "from mayavi import mlab\n",
    "s = mlab.mesh(x, y, z)\n",
    "mlab.show()"
   ]
  },
  {
   "cell_type": "code",
   "execution_count": 3,
   "id": "66d0e05e",
   "metadata": {},
   "outputs": [],
   "source": [
    "import numpy as np\n",
    "from mayavi.mlab import *\n",
    "from mayavi import mlab\n",
    "\n",
    "pi = np.pi\n",
    "cos = np.cos\n",
    "sin = np.sin\n",
    "dphi, dtheta = pi / 250.0, pi / 250.0\n",
    "[phi, theta] = np.mgrid[0:pi + dphi * 1.5:dphi,\n",
    "                            0:2 * pi + dtheta * 1.5:dtheta]\n",
    "m0 = 4\n",
    "m1 = 3\n",
    "m2 = 2\n",
    "m3 = 3\n",
    "m4 = 6\n",
    "m5 = 2\n",
    "m6 = 6\n",
    "m7 = 4\n",
    "r = sin(m0 * phi) ** m1 + cos(m2 * phi) ** m3 + \\\n",
    "        sin(m4 * theta) ** m5 + cos(m6 * theta) ** m7\n",
    "x = r * sin(phi) * cos(theta)\n",
    "y = r * cos(phi)\n",
    "z = r * sin(phi) * sin(theta)\n",
    "s = mlab.mesh(x, y, z)\n",
    "mlab.show()"
   ]
  },
  {
   "cell_type": "code",
   "execution_count": 2,
   "id": "16175e47",
   "metadata": {},
   "outputs": [],
   "source": [
    "import numpy as np\n",
    "from mayavi.mlab import *\n",
    "from mayavi import mlab\n",
    "\n",
    "n_mer, n_long = 6, 11\n",
    "dphi = np.pi / 1000.0\n",
    "phi = np.arange(0.0, 2 * np.pi + 0.5 * dphi, dphi)\n",
    "mu = phi * n_mer\n",
    "x = np.cos(mu) * (1 + np.cos(n_long * mu / n_mer) * 0.5)\n",
    "y = np.sin(mu) * (1 + np.cos(n_long * mu / n_mer) * 0.5)\n",
    "z = np.sin(n_long * mu / n_mer) * 0.5\n",
    "\n",
    "l = plot3d(x, y, z, np.sin(mu), tube_radius=0.025, colormap='Spectral')"
   ]
  },
  {
   "cell_type": "code",
   "execution_count": 1,
   "id": "6acdffbc",
   "metadata": {},
   "outputs": [
    {
     "ename": "SyntaxError",
     "evalue": "invalid syntax (857202059.py, line 1)",
     "output_type": "error",
     "traceback": [
      "\u001b[1;36m  Input \u001b[1;32mIn [1]\u001b[1;36m\u001b[0m\n\u001b[1;33m    a = [0:3:1,0:3:1]\u001b[0m\n\u001b[1;37m          ^\u001b[0m\n\u001b[1;31mSyntaxError\u001b[0m\u001b[1;31m:\u001b[0m invalid syntax\n"
     ]
    }
   ],
   "source": [
    "a = [0:3:1,0:3:1]\n",
    "a"
   ]
  },
  {
   "cell_type": "code",
   "execution_count": 10,
   "id": "ce030bfe",
   "metadata": {},
   "outputs": [
    {
     "name": "stdout",
     "output_type": "stream",
     "text": [
      "[[0.  0.  0. ]\n",
      " [1.5 1.5 1.5]]\n",
      "[[0. 1. 2.]\n",
      " [0. 1. 2.]]\n"
     ]
    }
   ],
   "source": [
    "import numpy as np\n",
    "\n",
    "x, y = np.mgrid[0:3:1.5,0:3:1]\n",
    "print(x)\n",
    "print(y)"
   ]
  },
  {
   "cell_type": "code",
   "execution_count": 1,
   "id": "cabcba66",
   "metadata": {},
   "outputs": [],
   "source": [
    "from numpy import sin, cos, mgrid, pi, sqrt\n",
    "from mayavi import mlab\n",
    "\n",
    "mlab.figure(fgcolor=(0, 0, 0), bgcolor=(1, 1, 1))\n",
    "u, v = mgrid[- 0.035:pi:0.01, - 0.035:pi:0.01]\n",
    "\n",
    "X = 2 / 3. * (cos(u) * cos(2 * v)\n",
    "        + sqrt(2) * sin(u) * cos(v)) * cos(u) / (sqrt(2) -\n",
    "                                                 sin(2 * u) * sin(3 * v))\n",
    "Y = 2 / 3. * (cos(u) * sin(2 * v) -\n",
    "        sqrt(2) * sin(u) * sin(v)) * cos(u) / (sqrt(2)\n",
    "        - sin(2 * u) * sin(3 * v))\n",
    "Z = -sqrt(2) * cos(u) * cos(u) / (sqrt(2) - sin(2 * u) * sin(3 * v))\n",
    "S = sin(u)\n",
    "\n",
    "mlab.mesh(X, Y, Z, scalars=S, colormap='YlGnBu', )\n",
    "\n",
    "# Nice view from the front\n",
    "mlab.view(.0, - 5.0, 4)\n",
    "mlab.show()"
   ]
  },
  {
   "cell_type": "code",
   "execution_count": 1,
   "id": "13cefbb3",
   "metadata": {},
   "outputs": [],
   "source": [
    "import numpy as np\n",
    "from numpy import *\n",
    "\n",
    "from mayavi import mlab\n",
    "\n",
    "t = np.linspace(0, 2*pi, 50)\n",
    "u = cos(t)*pi\n",
    "x, y, z = sin(u), cos(u), sin(t)\n",
    "mlab.clf()\n",
    "mlab.plot3d(x, y, z, t)\n",
    "mlab.show()"
   ]
  },
  {
   "cell_type": "code",
   "execution_count": 7,
   "id": "e8758f5f",
   "metadata": {},
   "outputs": [],
   "source": [
    "import numpy as np\n",
    "from numpy import *\n",
    "\n",
    "from mayavi import mlab\n",
    "\n",
    "phi, theta = np.mgrid[0:2*pi: 200j, 0:2*pi:200j]\n",
    "x = sin(phi)*cos(theta)\n",
    "y = sin(phi)*sin(theta)\n",
    "z = cos(phi)\n",
    "\n",
    "mlab.clf()\n",
    "mlab.mesh(x, y, z)\n",
    "mlab.show()"
   ]
  },
  {
   "cell_type": "code",
   "execution_count": 3,
   "id": "3cee4dfc",
   "metadata": {},
   "outputs": [],
   "source": [
    "import numpy as np\n",
    "from numpy import *\n",
    "\n",
    "from mayavi import mlab\n",
    "\n",
    "#x, y, z = [[1,0, 0], [0, 1, 0], [0, 0, 1]]\n",
    "#t = [[0,1, 2]]\n",
    "\n",
    "points = np.array([[0, 0, 0], [1, 0, 0], [1, 1, 0], [0, 1, 0], [0, 0, 1],\n",
    "                   [1, 0, 1], [1, 1, 1], [0, 1, 1], [0.5, 0.5, 2]])\n",
    "#t = [[0, 1, 2], [0, 2, 3], [4, 5, 6], [4, 6, 7], [0, 1, 8]]\n",
    "t = [[0, 1, 2], [0, 2, 3]]\n",
    "#points = np.array([[0,0, 0], [1, 0, 0], [1, 1, 0]])\n",
    "x, y, z = points.T\n",
    "mlab.clf()\n",
    "mlab.triangular_mesh(x, y, z, t)\n",
    "mlab.show()"
   ]
  },
  {
   "cell_type": "code",
   "execution_count": 1,
   "id": "d7b28235",
   "metadata": {},
   "outputs": [],
   "source": [
    "import numpy as np\n",
    "from numpy import *\n",
    "\n",
    "from mayavi import mlab\n",
    "\n",
    "x = [0, 1, 1, 0, 0.5]\n",
    "y = [0, 0, 1, 1, 0.5]\n",
    "z = [0, 0, 0, 0 , 1]\n",
    "t = [[0, 1, 4], [1, 2,4], [2, 3, 4], [3, 0, 4]]\n",
    "\n",
    "mlab.clf()\n",
    "mlab.triangular_mesh(x, y, z, t)\n",
    "mlab.show()"
   ]
  },
  {
   "cell_type": "code",
   "execution_count": null,
   "id": "daa4a7a7",
   "metadata": {},
   "outputs": [],
   "source": []
  },
  {
   "cell_type": "code",
   "execution_count": null,
   "id": "445141a6",
   "metadata": {},
   "outputs": [],
   "source": []
  },
  {
   "cell_type": "code",
   "execution_count": null,
   "id": "1c004075",
   "metadata": {},
   "outputs": [],
   "source": []
  },
  {
   "cell_type": "code",
   "execution_count": 21,
   "id": "c3ba3839",
   "metadata": {},
   "outputs": [
    {
     "ename": "TraitError",
     "evalue": "The 'color' trait of a SurfaceFactory instance must be a tuple of the form: (0.0 <= a floating point number <= 1.0, 0.0 <= a floating point number <= 1.0, 0.0 <= a floating point number <= 1.0) or None, but a value of 'cool' <class 'str'> was specified.",
     "output_type": "error",
     "traceback": [
      "\u001b[1;31m---------------------------------------------------------------------------\u001b[0m",
      "\u001b[1;31mTraitError\u001b[0m                                Traceback (most recent call last)",
      "Input \u001b[1;32mIn [21]\u001b[0m, in \u001b[0;36m<cell line: 18>\u001b[1;34m()\u001b[0m\n\u001b[0;32m     11\u001b[0m z \u001b[38;5;241m=\u001b[39m np\u001b[38;5;241m.\u001b[39marray([\u001b[38;5;241m0\u001b[39m, \u001b[38;5;241m0\u001b[39m, \u001b[38;5;241m0\u001b[39m, \u001b[38;5;241m0\u001b[39m, \u001b[38;5;241m-\u001b[39m\u001b[38;5;241m1\u001b[39m, \u001b[38;5;241m-\u001b[39m\u001b[38;5;241m1\u001b[39m, \u001b[38;5;241m-\u001b[39m\u001b[38;5;241m1\u001b[39m, \u001b[38;5;241m-\u001b[39m\u001b[38;5;241m1\u001b[39m])\u001b[38;5;241m*\u001b[39m\u001b[38;5;241m120\u001b[39m\n\u001b[0;32m     12\u001b[0m t \u001b[38;5;241m=\u001b[39m [[\u001b[38;5;241m0\u001b[39m, \u001b[38;5;241m1\u001b[39m, \u001b[38;5;241m2\u001b[39m], [\u001b[38;5;241m2\u001b[39m, \u001b[38;5;241m3\u001b[39m, \u001b[38;5;241m0\u001b[39m], \n\u001b[0;32m     13\u001b[0m     [\u001b[38;5;241m4\u001b[39m, \u001b[38;5;241m5\u001b[39m, \u001b[38;5;241m6\u001b[39m], [\u001b[38;5;241m6\u001b[39m, \u001b[38;5;241m7\u001b[39m, \u001b[38;5;241m4\u001b[39m], \n\u001b[0;32m     14\u001b[0m     [\u001b[38;5;241m0\u001b[39m, \u001b[38;5;241m1\u001b[39m, \u001b[38;5;241m5\u001b[39m], [\u001b[38;5;241m5\u001b[39m, \u001b[38;5;241m4\u001b[39m, \u001b[38;5;241m0\u001b[39m], \n\u001b[0;32m     15\u001b[0m     [\u001b[38;5;241m1\u001b[39m, \u001b[38;5;241m2\u001b[39m, \u001b[38;5;241m6\u001b[39m], [\u001b[38;5;241m1\u001b[39m, \u001b[38;5;241m6\u001b[39m, \u001b[38;5;241m5\u001b[39m], \n\u001b[0;32m     16\u001b[0m     [\u001b[38;5;241m2\u001b[39m, \u001b[38;5;241m3\u001b[39m, \u001b[38;5;241m7\u001b[39m], [\u001b[38;5;241m7\u001b[39m, \u001b[38;5;241m6\u001b[39m, \u001b[38;5;241m2\u001b[39m], \n\u001b[0;32m     17\u001b[0m     [\u001b[38;5;241m0\u001b[39m, \u001b[38;5;241m3\u001b[39m, \u001b[38;5;241m4\u001b[39m], [\u001b[38;5;241m4\u001b[39m, \u001b[38;5;241m7\u001b[39m, \u001b[38;5;241m3\u001b[39m]]\n\u001b[1;32m---> 18\u001b[0m \u001b[43mmlab\u001b[49m\u001b[38;5;241;43m.\u001b[39;49m\u001b[43mtriangular_mesh\u001b[49m\u001b[43m(\u001b[49m\u001b[43mx\u001b[49m\u001b[43m,\u001b[49m\u001b[43m \u001b[49m\u001b[43my\u001b[49m\u001b[43m,\u001b[49m\u001b[43m \u001b[49m\u001b[43mz\u001b[49m\u001b[43m,\u001b[49m\u001b[43m \u001b[49m\u001b[43mt\u001b[49m\u001b[43m,\u001b[49m\u001b[43m \u001b[49m\u001b[43mcolor\u001b[49m\u001b[43m \u001b[49m\u001b[38;5;241;43m=\u001b[39;49m\u001b[43m \u001b[49m\u001b[38;5;124;43m\"\u001b[39;49m\u001b[38;5;124;43mcool\u001b[39;49m\u001b[38;5;124;43m\"\u001b[39;49m\u001b[43m)\u001b[49m\n\u001b[0;32m     19\u001b[0m \u001b[38;5;66;03m#----------------Lớp trên---------------------------\u001b[39;00m\n\u001b[0;32m     20\u001b[0m theta \u001b[38;5;241m=\u001b[39m np\u001b[38;5;241m.\u001b[39mlinspace(\u001b[38;5;241m0\u001b[39m, \u001b[38;5;241m2\u001b[39m\u001b[38;5;241m*\u001b[39mnp\u001b[38;5;241m.\u001b[39mpi, \u001b[38;5;241m50\u001b[39m)\n",
      "File \u001b[1;32m~\\anaconda3\\lib\\site-packages\\mayavi\\tools\\helper_functions.py:38\u001b[0m, in \u001b[0;36mdocument_pipeline.<locals>.the_function\u001b[1;34m(*args, **kwargs)\u001b[0m\n\u001b[0;32m     37\u001b[0m \u001b[38;5;28;01mdef\u001b[39;00m \u001b[38;5;21mthe_function\u001b[39m(\u001b[38;5;241m*\u001b[39margs, \u001b[38;5;241m*\u001b[39m\u001b[38;5;241m*\u001b[39mkwargs):\n\u001b[1;32m---> 38\u001b[0m     \u001b[38;5;28;01mreturn\u001b[39;00m pipeline(\u001b[38;5;241m*\u001b[39margs, \u001b[38;5;241m*\u001b[39m\u001b[38;5;241m*\u001b[39mkwargs)\n",
      "File \u001b[1;32m~\\anaconda3\\lib\\site-packages\\mayavi\\tools\\helper_functions.py:83\u001b[0m, in \u001b[0;36mPipeline.__call__\u001b[1;34m(self, *args, **kwargs)\u001b[0m\n\u001b[0;32m     81\u001b[0m     scene\u001b[38;5;241m.\u001b[39mdisable_render \u001b[38;5;241m=\u001b[39m \u001b[38;5;28;01mTrue\u001b[39;00m\n\u001b[0;32m     82\u001b[0m \u001b[38;5;66;03m# Then call the real logic\u001b[39;00m\n\u001b[1;32m---> 83\u001b[0m output \u001b[38;5;241m=\u001b[39m \u001b[38;5;28mself\u001b[39m\u001b[38;5;241m.\u001b[39m__call_internal__(\u001b[38;5;241m*\u001b[39margs, \u001b[38;5;241m*\u001b[39m\u001b[38;5;241m*\u001b[39mkwargs)\n\u001b[0;32m     84\u001b[0m \u001b[38;5;66;03m# And re-enable the rendering, if needed.\u001b[39;00m\n\u001b[0;32m     85\u001b[0m \u001b[38;5;28;01mif\u001b[39;00m scene \u001b[38;5;129;01mis\u001b[39;00m \u001b[38;5;129;01mnot\u001b[39;00m \u001b[38;5;28;01mNone\u001b[39;00m:\n",
      "File \u001b[1;32m~\\anaconda3\\lib\\site-packages\\mayavi\\tools\\helper_functions.py:875\u001b[0m, in \u001b[0;36mMesh.__call_internal__\u001b[1;34m(self, *args, **kwargs)\u001b[0m\n\u001b[0;32m    873\u001b[0m         \u001b[38;5;28mself\u001b[39m\u001b[38;5;241m.\u001b[39mpipeline\u001b[38;5;241m.\u001b[39mremove(GlyphFactory)\n\u001b[0;32m    874\u001b[0m     \u001b[38;5;28mself\u001b[39m\u001b[38;5;241m.\u001b[39mkwargs[\u001b[38;5;124m'\u001b[39m\u001b[38;5;124mrepresentation\u001b[39m\u001b[38;5;124m'\u001b[39m] \u001b[38;5;241m=\u001b[39m \u001b[38;5;124m'\u001b[39m\u001b[38;5;124msurface\u001b[39m\u001b[38;5;124m'\u001b[39m\n\u001b[1;32m--> 875\u001b[0m \u001b[38;5;28;01mreturn\u001b[39;00m \u001b[38;5;28;43mself\u001b[39;49m\u001b[38;5;241;43m.\u001b[39;49m\u001b[43mbuild_pipeline\u001b[49m\u001b[43m(\u001b[49m\u001b[43m)\u001b[49m\n",
      "File \u001b[1;32m~\\anaconda3\\lib\\site-packages\\mayavi\\tools\\helper_functions.py:124\u001b[0m, in \u001b[0;36mPipeline.build_pipeline\u001b[1;34m(self)\u001b[0m\n\u001b[0;32m    122\u001b[0m         \u001b[38;5;28;01mif\u001b[39;00m key \u001b[38;5;129;01min\u001b[39;00m keywords:\n\u001b[0;32m    123\u001b[0m             this_kwargs[key] \u001b[38;5;241m=\u001b[39m value\n\u001b[1;32m--> 124\u001b[0m     \u001b[38;5;28mobject\u001b[39m \u001b[38;5;241m=\u001b[39m pipe(\u001b[38;5;28mobject\u001b[39m, \u001b[38;5;241m*\u001b[39m\u001b[38;5;241m*\u001b[39mthis_kwargs)\u001b[38;5;241m.\u001b[39m_target\n\u001b[0;32m    125\u001b[0m \u001b[38;5;28;01mreturn\u001b[39;00m \u001b[38;5;28mobject\u001b[39m\n",
      "File \u001b[1;32m~\\anaconda3\\lib\\site-packages\\mayavi\\tools\\modules.py:162\u001b[0m, in \u001b[0;36mDataModuleFactory.__init__\u001b[1;34m(self, *args, **kwargs)\u001b[0m\n\u001b[0;32m    161\u001b[0m \u001b[38;5;28;01mdef\u001b[39;00m \u001b[38;5;21m__init__\u001b[39m(\u001b[38;5;28mself\u001b[39m, \u001b[38;5;241m*\u001b[39margs, \u001b[38;5;241m*\u001b[39m\u001b[38;5;241m*\u001b[39mkwargs):\n\u001b[1;32m--> 162\u001b[0m     \u001b[38;5;28msuper\u001b[39m(DataModuleFactory, \u001b[38;5;28mself\u001b[39m)\u001b[38;5;241m.\u001b[39m\u001b[38;5;21m__init__\u001b[39m(\u001b[38;5;241m*\u001b[39margs, \u001b[38;5;241m*\u001b[39m\u001b[38;5;241m*\u001b[39mkwargs)\n\u001b[0;32m    163\u001b[0m     \u001b[38;5;66;03m# We are adding data to the scene, reset the zoom:\u001b[39;00m\n\u001b[0;32m    164\u001b[0m     scene \u001b[38;5;241m=\u001b[39m \u001b[38;5;28mself\u001b[39m\u001b[38;5;241m.\u001b[39m_scene\u001b[38;5;241m.\u001b[39mscene\n",
      "File \u001b[1;32m~\\anaconda3\\lib\\site-packages\\mayavi\\tools\\pipe_base.py:163\u001b[0m, in \u001b[0;36mPipeFactory.__init__\u001b[1;34m(self, parent, **kwargs)\u001b[0m\n\u001b[0;32m    160\u001b[0m traits\u001b[38;5;241m.\u001b[39mupdate(kwargs)\n\u001b[0;32m    161\u001b[0m \u001b[38;5;66;03m# Now calling the traits setter, so that traits handlers are\u001b[39;00m\n\u001b[0;32m    162\u001b[0m \u001b[38;5;66;03m# called\u001b[39;00m\n\u001b[1;32m--> 163\u001b[0m \u001b[38;5;28mself\u001b[39m\u001b[38;5;241m.\u001b[39mtrait_set(\u001b[38;5;241m*\u001b[39m\u001b[38;5;241m*\u001b[39mtraits)\n\u001b[0;32m    164\u001b[0m \u001b[38;5;28;01mif\u001b[39;00m scene \u001b[38;5;129;01mis\u001b[39;00m \u001b[38;5;129;01mnot\u001b[39;00m \u001b[38;5;28;01mNone\u001b[39;00m:\n\u001b[0;32m    165\u001b[0m     scene\u001b[38;5;241m.\u001b[39mdisable_render \u001b[38;5;241m=\u001b[39m \u001b[38;5;129;01mnot\u001b[39;00m \u001b[38;5;28mself\u001b[39m\u001b[38;5;241m.\u001b[39m_do_redraw\n",
      "File \u001b[1;32m~\\anaconda3\\lib\\site-packages\\mayavi\\tools\\pipe_base.py:174\u001b[0m, in \u001b[0;36mPipeFactory.trait_set\u001b[1;34m(self, trait_change_notify, **traits)\u001b[0m\n\u001b[0;32m    171\u001b[0m \u001b[38;5;28;01mdef\u001b[39;00m \u001b[38;5;21mtrait_set\u001b[39m(\u001b[38;5;28mself\u001b[39m, trait_change_notify\u001b[38;5;241m=\u001b[39m\u001b[38;5;28;01mTrue\u001b[39;00m, \u001b[38;5;241m*\u001b[39m\u001b[38;5;241m*\u001b[39mtraits):\n\u001b[0;32m    172\u001b[0m \u001b[38;5;250m    \u001b[39m\u001b[38;5;124;03m\"\"\" Same as HasTraits.set except that notification is forced,\u001b[39;00m\n\u001b[0;32m    173\u001b[0m \u001b[38;5;124;03m    unless trait_change_notify==False\"\"\"\u001b[39;00m\n\u001b[1;32m--> 174\u001b[0m     HasPrivateTraits\u001b[38;5;241m.\u001b[39mtrait_set(\n\u001b[0;32m    175\u001b[0m         \u001b[38;5;28mself\u001b[39m, trait_change_notify\u001b[38;5;241m=\u001b[39mtrait_change_notify, \u001b[38;5;241m*\u001b[39m\u001b[38;5;241m*\u001b[39mtraits)\n\u001b[0;32m    176\u001b[0m     \u001b[38;5;28;01mif\u001b[39;00m trait_change_notify \u001b[38;5;241m==\u001b[39m \u001b[38;5;28;01mFalse\u001b[39;00m:\n\u001b[0;32m    177\u001b[0m         \u001b[38;5;28;01mreturn\u001b[39;00m\n",
      "File \u001b[1;32m~\\anaconda3\\lib\\site-packages\\traits\\has_traits.py:1510\u001b[0m, in \u001b[0;36mHasTraits.trait_set\u001b[1;34m(self, trait_change_notify, **traits)\u001b[0m\n\u001b[0;32m   1508\u001b[0m \u001b[38;5;28;01melse\u001b[39;00m:\n\u001b[0;32m   1509\u001b[0m     \u001b[38;5;28;01mfor\u001b[39;00m name, value \u001b[38;5;129;01min\u001b[39;00m traits\u001b[38;5;241m.\u001b[39mitems():\n\u001b[1;32m-> 1510\u001b[0m         \u001b[38;5;28;43msetattr\u001b[39;49m\u001b[43m(\u001b[49m\u001b[38;5;28;43mself\u001b[39;49m\u001b[43m,\u001b[49m\u001b[43m \u001b[49m\u001b[43mname\u001b[49m\u001b[43m,\u001b[49m\u001b[43m \u001b[49m\u001b[43mvalue\u001b[49m\u001b[43m)\u001b[49m\n\u001b[0;32m   1512\u001b[0m \u001b[38;5;28;01mreturn\u001b[39;00m \u001b[38;5;28mself\u001b[39m\n",
      "File \u001b[1;32m~\\anaconda3\\lib\\site-packages\\traits\\base_trait_handler.py:74\u001b[0m, in \u001b[0;36mBaseTraitHandler.error\u001b[1;34m(self, object, name, value)\u001b[0m\n\u001b[0;32m     57\u001b[0m \u001b[38;5;28;01mdef\u001b[39;00m \u001b[38;5;21merror\u001b[39m(\u001b[38;5;28mself\u001b[39m, \u001b[38;5;28mobject\u001b[39m, name, value):\n\u001b[0;32m     58\u001b[0m \u001b[38;5;250m    \u001b[39m\u001b[38;5;124;03m\"\"\"Raises a TraitError exception.\u001b[39;00m\n\u001b[0;32m     59\u001b[0m \n\u001b[0;32m     60\u001b[0m \u001b[38;5;124;03m    This method is called by the validate() method when an assigned value\u001b[39;00m\n\u001b[1;32m   (...)\u001b[0m\n\u001b[0;32m     72\u001b[0m \u001b[38;5;124;03m        The proposed new value for the attribute.\u001b[39;00m\n\u001b[0;32m     73\u001b[0m \u001b[38;5;124;03m    \"\"\"\u001b[39;00m\n\u001b[1;32m---> 74\u001b[0m     \u001b[38;5;28;01mraise\u001b[39;00m TraitError(\n\u001b[0;32m     75\u001b[0m         \u001b[38;5;28mobject\u001b[39m, name, \u001b[38;5;28mself\u001b[39m\u001b[38;5;241m.\u001b[39mfull_info(\u001b[38;5;28mobject\u001b[39m, name, value), value\n\u001b[0;32m     76\u001b[0m     )\n",
      "\u001b[1;31mTraitError\u001b[0m: The 'color' trait of a SurfaceFactory instance must be a tuple of the form: (0.0 <= a floating point number <= 1.0, 0.0 <= a floating point number <= 1.0, 0.0 <= a floating point number <= 1.0) or None, but a value of 'cool' <class 'str'> was specified."
     ]
    }
   ],
   "source": [
    "import numpy as np\n",
    "from mayavi import mlab\n",
    "\n",
    "d = 240 #bán kính trong hình trụ\n",
    "D = d + 30 # bán kính ngoài hình trụ\n",
    "h1 = D #chiều cao hình trụ\n",
    "\n",
    "#--------------Lớp đế--------------------------------\n",
    "x = np.array([0, 1, 1, 0, 0, 1, 1, 0])*(430*2+D+200)\n",
    "y = np.array([0, 0, 1, 1, 0, 0, 1, 1])*(430+D+200)\n",
    "z = np.array([0, 0, 0, 0, -1, -1, -1, -1])*120\n",
    "t = [[0, 1, 2], [2, 3, 0], \n",
    "    [4, 5, 6], [6, 7, 4], \n",
    "    [0, 1, 5], [5, 4, 0], \n",
    "    [1, 2, 6], [1, 6, 5], \n",
    "    [2, 3, 7], [7, 6, 2], \n",
    "    [0, 3, 4], [4, 7, 3]]\n",
    "mlab.triangular_mesh(x, y, z, t, color = \"cool\")\n",
    "#----------------Lớp trên---------------------------\n",
    "theta = np.linspace(0, 2*np.pi, 50)\n",
    "h = np.linspace(0, h1, 50)\n",
    "theta, h = np.meshgrid(theta, h)\n",
    "\n",
    "for i in range(0, 3, 1):\n",
    "    for r in np.linspace(d/2, D/2, 30):\n",
    "        x3 = 430*i + D/2 + 100 + (r)*np.cos(theta)\n",
    "        y3 = D/2 + 100 + (r)*np.sin(theta)\n",
    "        mlab.mesh(x3, y3, h)\n",
    "        \n",
    "for i in range(0, 3, 1):\n",
    "    for r in np.linspace(d/2, D/2, 30):\n",
    "        x3 = 430*i + D/2 + 100 + (r)*np.cos(theta)\n",
    "        y3 = 430 + D/2 + 100 + (r)*np.sin(theta)\n",
    "        mlab.mesh(x3, y3, h)\n",
    "\n",
    "mlab.show()"
   ]
  },
  {
   "cell_type": "code",
   "execution_count": null,
   "id": "30652c04",
   "metadata": {},
   "outputs": [],
   "source": [
    "import numpy as np\n",
    "from mayavi import mlab\n",
    "\n",
    "d = 240 #bán kính trong hình trụ\n",
    "D = d + 30 # bán kính ngoài hình trụ\n",
    "h1 = D #chiều cao hình trụ\n",
    "\n",
    "theta = np.linspace(0, 2*np.pi, h1)\n",
    "h = np.linspace(0, h1, h1)\n",
    "theta, h = np.meshgrid(theta, h)\n",
    "\n",
    "#các điểm trên bề mặt bán kính d\n",
    "x1 = (d/2)*np.cos(theta)\n",
    "y1 = (d/2)*np.sin(theta)\n",
    "mlab.mesh(x1, y1, h)\n",
    "\n",
    "#các điểm trên bề mặt bán kính ngoài\n",
    "x2 = (D/2)*np.cos(theta)\n",
    "y2 = (D/2)*np.sin(theta)\n",
    "mlab.mesh(x2, y2, h)\n",
    "\n",
    "#nắp hình trụ\n",
    "#r = np.linspace(d, D, h1)\n",
    "#r = np.meshgrid(r)\n",
    "for r in np.linspace(d, D, h1):\n",
    "    x3 = 500 + r*np.cos(theta)\n",
    "    y3 = 500 + r*np.sin(theta)\n",
    "    mlab.mesh(x3, y3, h)\n",
    "\n",
    "mlab.show()"
   ]
  },
  {
   "cell_type": "code",
   "execution_count": 5,
   "id": "5051f03c",
   "metadata": {},
   "outputs": [],
   "source": [
    "import numpy as np\n",
    "from mayavi import mlab\n",
    "\n",
    "height = 2.0  # Chiều cao của hình trụ\n",
    "resolution = 50  # Độ phân giải của mạng lưới\n",
    "theta = np.linspace(0, 2*np.pi, resolution)\n",
    "z = np.linspace(0, height, resolution)\n",
    "\n",
    "inner_radius = 0.5  # Bán kính trong\n",
    "outer_radius = 1.0  # Bán kính ngoài\n",
    "\n",
    "theta, z = np.meshgrid(theta, z)\n",
    "\n",
    "# Tạo các điểm trên bề mặt trong của hình trụ\n",
    "x_inner = inner_radius * np.cos(theta)\n",
    "y_inner = inner_radius * np.sin(theta)\n",
    "mlab.mesh(x_inner, y_inner, z)\n",
    "\n",
    "# Tạo các điểm trên bề mặt ngoài của hình trụ\n",
    "x_outer = outer_radius * np.cos(theta)\n",
    "y_outer = outer_radius * np.sin(theta)\n",
    "mlab.mesh(x_outer, y_outer, z)\n",
    "\n",
    "mlab.show()"
   ]
  }
 ],
 "metadata": {
  "kernelspec": {
   "display_name": "Python 3 (ipykernel)",
   "language": "python",
   "name": "python3"
  },
  "language_info": {
   "codemirror_mode": {
    "name": "ipython",
    "version": 3
   },
   "file_extension": ".py",
   "mimetype": "text/x-python",
   "name": "python",
   "nbconvert_exporter": "python",
   "pygments_lexer": "ipython3",
   "version": "3.9.12"
  }
 },
 "nbformat": 4,
 "nbformat_minor": 5
}
