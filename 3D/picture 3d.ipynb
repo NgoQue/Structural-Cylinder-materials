{
 "cells": [
  {
   "cell_type": "code",
   "execution_count": 8,
   "id": "bddef6d3",
   "metadata": {},
   "outputs": [],
   "source": [
    "import numpy as np\n",
    "from mayavi import mlab\n",
    "\n",
    "d = 240 #bán kính trong hình trụ\n",
    "D = d + 30 # bán kính ngoài hình trụ\n",
    "h1 = D #chiều cao hình trụ\n",
    "\n",
    "#--------------Lớp đế-Hình hộp-------------------------------\n",
    "#tọa độ 8 đỉnh của hình hộp chữ nhật\n",
    "x = np.array([0, 1, 1, 0, 0, 1, 1, 0])*(430*2+D+200) \n",
    "y = np.array([0, 0, 1, 1, 0, 0, 1, 1])*(430+D+200)\n",
    "z = np.array([0, 0, 0, 0, -1, -1, -1, -1])*150\n",
    "t = [[0, 1, 2], [2, 3, 0], \n",
    "    [4, 5, 6], [6, 7, 4], \n",
    "    [0, 1, 5], [5, 4, 0], \n",
    "    [1, 2, 6], [1, 6, 5], \n",
    "    [2, 3, 7], [7, 6, 2], \n",
    "    [0, 3, 4], [4, 7, 3]]\n",
    "mlab.triangular_mesh(x, y, z, t, color=(0.8, 0.7, 0.65))\n",
    "\n",
    "#----------------Lớp trên-Hình trụ--------------------------\n",
    "theta = np.linspace(0, 2*np.pi, 50)\n",
    "h = np.linspace(0, h1, 50)\n",
    "theta, h = np.meshgrid(theta, h)\n",
    "\n",
    "#3 hình trụ hàng thứ nhất\n",
    "for i in range(0, 3, 1):\n",
    "    for r in np.linspace(d/2, D/2, 30):\n",
    "        x3 = 430*i + D/2 + 100 + (r)*np.cos(theta)\n",
    "        y3 = D/2 + 100 + (r)*np.sin(theta)\n",
    "        mlab.mesh(x3, y3, h, color=(0.7843, 0.627, 0.51))\n",
    "\n",
    "# 3 hình trụ hàng thứ hai\n",
    "for i in range(0, 3, 1):\n",
    "    for r in np.linspace(d/2, D/2, 30):\n",
    "        x3 = 430*i + D/2 + 100 + (r)*np.cos(theta)\n",
    "        y3 = 430 + D/2 + 100 + (r)*np.sin(theta)\n",
    "        mlab.mesh(x3, y3, h, color=(0.7843, 0.627, 0.51))\n",
    "mlab.view(azimuth=60, elevation=70, distance=3000) \n",
    "mlab.show()"
   ]
  },
  {
   "cell_type": "code",
   "execution_count": 2,
   "id": "3139b895",
   "metadata": {},
   "outputs": [
    {
     "name": "stdout",
     "output_type": "stream",
     "text": [
      "Nhap gia tri cua d\n",
      "d = 300\n"
     ]
    }
   ],
   "source": [
    "import numpy as np\n",
    "from mayavi import mlab\n",
    "def img3d(d):\n",
    "    d = d/10\n",
    "    D = d + 3 # bán kính ngoài hình trụ\n",
    "    h1 = D #chiều cao hình trụ\n",
    "\n",
    "    #--------------Lớp đế-Hình hộp-------------------------------\n",
    "    #tọa độ 8 đỉnh của hình hộp chữ nhật\n",
    "    x = np.array([0, 1, 1, 0, 0, 1, 1, 0])*(43*2+D+20) \n",
    "    y = np.array([0, 0, 1, 1, 0, 0, 1, 1])*(43+D+20)\n",
    "    z = np.array([0, 0, 0, 0, -1, -1, -1, -1])*15\n",
    "    t = [[0, 1, 2], [2, 3, 0], \n",
    "        [4, 5, 6], [6, 7, 4], \n",
    "        [0, 1, 5], [5, 4, 0], \n",
    "        [1, 2, 6], [1, 6, 5], \n",
    "        [2, 3, 7], [7, 6, 2], \n",
    "        [0, 3, 4], [4, 7, 3]]\n",
    "    mlab.triangular_mesh(x, y, z, t, color=(0.7843, 0.627, 0.51))\n",
    "\n",
    "    #----------------Lớp trên-Hình trụ--------------------------\n",
    "    theta = np.linspace(0, 2*np.pi, 50)\n",
    "    h = np.linspace(0, h1, 50)\n",
    "    theta, h = np.meshgrid(theta, h)\n",
    "\n",
    "    #3 hình trụ hàng thứ nhất\n",
    "    for i in range(0, 3, 1):\n",
    "        for r in np.linspace(d/2, D/2, 30):\n",
    "            x3 = 43*i + D/2 + 10 + (r)*np.cos(theta)\n",
    "            y3 = D/2 + 10 + (r)*np.sin(theta)\n",
    "            mlab.mesh(x3, y3, h, color=(0.7843, 0.627, 0.51))\n",
    "\n",
    "    # 3 hình trụ hàng thứ hai\n",
    "    for i in range(0, 3, 1):\n",
    "        for r in np.linspace(d/2, D/2, 30):\n",
    "            x3 = 43*i + D/2 + 10 + (r)*np.cos(theta)\n",
    "            y3 = 43 + D/2 + 10 + (r)*np.sin(theta)\n",
    "            mlab.mesh(x3, y3, h, color=(0.7843, 0.627, 0.51))\n",
    "    mlab.show()\n",
    "print(\"Nhap gia tri cua d\")\n",
    "d = int(input(\"d = \"))\n",
    "\n",
    "img3d(d)\n",
    "mlab.view(azimuth=60, elevation=70, distance=300) "
   ]
  },
  {
   "cell_type": "code",
   "execution_count": 1,
   "id": "5051e40b",
   "metadata": {},
   "outputs": [],
   "source": [
    "import os"
   ]
  },
  {
   "cell_type": "code",
   "execution_count": null,
   "id": "30f3eba8",
   "metadata": {},
   "outputs": [],
   "source": []
  }
 ],
 "metadata": {
  "kernelspec": {
   "display_name": "Python 3 (ipykernel)",
   "language": "python",
   "name": "python3"
  },
  "language_info": {
   "codemirror_mode": {
    "name": "ipython",
    "version": 3
   },
   "file_extension": ".py",
   "mimetype": "text/x-python",
   "name": "python",
   "nbconvert_exporter": "python",
   "pygments_lexer": "ipython3",
   "version": "3.9.12"
  }
 },
 "nbformat": 4,
 "nbformat_minor": 5
}
